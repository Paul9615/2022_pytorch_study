{
  "nbformat": 4,
  "nbformat_minor": 0,
  "metadata": {
    "colab": {
      "name": "2_2_MNIST_ConvolutionNueralNetwork.ipynb",
      "provenance": [],
      "collapsed_sections": [],
      "authorship_tag": "ABX9TyMAqEUTEjoGvz5eCLSDVsYT",
      "include_colab_link": true
    },
    "kernelspec": {
      "name": "python3",
      "display_name": "Python 3"
    },
    "language_info": {
      "name": "python"
    },
    "accelerator": "GPU",
    "gpuClass": "standard"
  },
  "cells": [
    {
      "cell_type": "markdown",
      "metadata": {
        "id": "view-in-github",
        "colab_type": "text"
      },
      "source": [
        "<a href=\"https://colab.research.google.com/github/Paul9615/Paul_pytorch/blob/main/PART1/3_CNN/2_2_MNIST_ConvolutionNueralNetwork.ipynb\" target=\"_parent\"><img src=\"https://colab.research.google.com/assets/colab-badge.svg\" alt=\"Open In Colab\"/></a>"
      ]
    },
    {
      "cell_type": "code",
      "execution_count": 2,
      "metadata": {
        "id": "5CvUxBee_iAL"
      },
      "outputs": [],
      "source": [
        "import torch\n",
        "import torchvision.datasets as dsets\n",
        "import torchvision.transforms as transforms \n",
        "import torch.nn as nn\n",
        "import torch.nn.init"
      ]
    },
    {
      "cell_type": "code",
      "source": [
        "# set GPU \n",
        "dev = 'cuda' if torch.cuda.is_available() else 'cpu'\n",
        "\n",
        "# fix random seed \n",
        "torch.manual_seed(1)\n",
        "\n",
        "# if can use GPU, fix the random seed \n",
        "if dev == 'cuda':\n",
        "  torch.cuda.manual_seed_all(1)\n",
        "\n",
        "print(dev)"
      ],
      "metadata": {
        "colab": {
          "base_uri": "https://localhost:8080/"
        },
        "id": "r0B3sJftA4LY",
        "outputId": "458e7386-8d43-4d46-d9fe-d712429aff5d"
      },
      "execution_count": 3,
      "outputs": [
        {
          "output_type": "stream",
          "name": "stdout",
          "text": [
            "cuda\n"
          ]
        }
      ]
    },
    {
      "cell_type": "code",
      "source": [
        "# set parameters for use to training \n",
        "learn_rate = 0.001\n",
        "n_epoch = 15\n",
        "batch_size = 100\n",
        "\n",
        "# define dataset \n",
        "train_data = dsets.MNIST(\n",
        "    root = 'MNIST_data/',\n",
        "    train = True,\n",
        "    transform = transforms.ToTensor(),\n",
        "    download=True\n",
        ")\n",
        "\n",
        "test_data = dsets.MNIST(\n",
        "    root = 'MNIST_data/',\n",
        "    train = False,\n",
        "    transform = transforms.ToTensor(),\n",
        "    download=True\n",
        ")\n",
        "\n",
        "# set batch size using dataloader \n",
        "data_loader = torch.utils.data.DataLoader(\n",
        "    dataset = train_data,\n",
        "    batch_size = batch_size,\n",
        "    shuffle=True,\n",
        "    drop_last = True\n",
        ")"
      ],
      "metadata": {
        "id": "kVq7ZYEmBkhx"
      },
      "execution_count": 5,
      "outputs": []
    },
    {
      "cell_type": "code",
      "source": [
        "# design model \n",
        "class CNN(nn.Module):\n",
        "  def __init__(self):\n",
        "    super(CNN, self).__init__()\n",
        "\n",
        "    # first layer \n",
        "    self.layer1 = nn.Sequential(\n",
        "        nn.Conv2d(1,32,kernel_size=3, stride=1,padding=1),\n",
        "        nn.ReLU(),\n",
        "        nn.MaxPool2d(kernel_size=2, stride=2)\n",
        "    )\n",
        "    \n",
        "    # second layer \n",
        "    self.layer2 = nn.Sequential(\n",
        "        nn.Conv2d(32,64,kernel_size=3,stride=1,padding=1),\n",
        "        nn.ReLU(),\n",
        "        nn.MaxPool2d(kernel_size=2, stride=2)\n",
        "    )\n",
        "    \n",
        "    # fully connected layer \n",
        "    # 7x7x64 inputs -> 10 outputs\n",
        "    self.fc = nn.Linear(7*7*64,10,bias=True)\n",
        "\n",
        "    # initialize weighted in fully connected layer \n",
        "    nn.init.xavier_uniform_(self.fc.weight)\n",
        "\n",
        "    # forward operation \n",
        "  def forward(self,x):\n",
        "    out = self.layer1(x)\n",
        "    out = self.layer2(out)\n",
        "    out = out.view(out.size(0),-1) # flatten for fully connected layer\n",
        "    out = self.fc(out)\n",
        "    return out"
      ],
      "metadata": {
        "id": "5Rhe58feCV2o"
      },
      "execution_count": 9,
      "outputs": []
    },
    {
      "cell_type": "code",
      "source": [
        "# define model\n",
        "mod = CNN().to(dev)\n",
        "\n",
        "# define cost function and optimizer \n",
        "criterion = nn.CrossEntropyLoss().to(dev)\n",
        "opt = torch.optim.Adam(mod.parameters(), lr=learn_rate)\n",
        "\n",
        "# total batch \n",
        "tot_batch = len(data_loader)\n",
        "print(f'total batch: {tot_batch}')"
      ],
      "metadata": {
        "colab": {
          "base_uri": "https://localhost:8080/"
        },
        "id": "e4G_j1jnFOqL",
        "outputId": "4030a102-bd4c-4d0d-bfd2-14ea11ea7528"
      },
      "execution_count": 11,
      "outputs": [
        {
          "output_type": "stream",
          "name": "stdout",
          "text": [
            "total batch: 600\n"
          ]
        }
      ]
    },
    {
      "cell_type": "code",
      "source": [
        "# trainint \n",
        "for epoch in range(n_epoch):\n",
        "  avg_cost = 0\n",
        "  for x, y in data_loader: # get data in mini batch, x is mini batch, y is label\n",
        "    x = x.to(dev)\n",
        "    y = y.to(dev)\n",
        "\n",
        "    opt.zero_grad()\n",
        "    hyp = mod(x)\n",
        "    cost = criterion(hyp, y)\n",
        "    cost.backward()\n",
        "    opt.step()\n",
        "\n",
        "    avg_cost += cost/tot_batch\n",
        "\n",
        "  print(f'Epoch: {epoch+1:>4} Cost: {avg_cost:>.9}')"
      ],
      "metadata": {
        "colab": {
          "base_uri": "https://localhost:8080/"
        },
        "id": "GGjfuyuRGDJY",
        "outputId": "14747fd8-fa7f-43fb-e24a-15b263fa0d31"
      },
      "execution_count": 13,
      "outputs": [
        {
          "output_type": "stream",
          "name": "stdout",
          "text": [
            "Epoch:    1 Cost: 0.00560098561\n",
            "Epoch:    2 Cost: 0.00395665132\n",
            "Epoch:    3 Cost: 0.00213228259\n",
            "Epoch:    4 Cost: 0.00519693224\n",
            "Epoch:    5 Cost: 0.00516313687\n",
            "Epoch:    6 Cost: 0.00268676644\n",
            "Epoch:    7 Cost: 0.0026588249\n",
            "Epoch:    8 Cost: 0.00332005695\n",
            "Epoch:    9 Cost: 0.00212878734\n",
            "Epoch:   10 Cost: 0.00407589599\n",
            "Epoch:   11 Cost: 0.00216609612\n",
            "Epoch:   12 Cost: 0.000928715453\n",
            "Epoch:   13 Cost: 0.00326016126\n",
            "Epoch:   14 Cost: 0.000881520042\n",
            "Epoch:   15 Cost: 0.00352526503\n"
          ]
        }
      ]
    },
    {
      "cell_type": "code",
      "source": [
        "# Evaluate \n",
        "with torch.no_grad():\n",
        "  x_test = test_data.test_data.view(len(test_data), 1,28,28).float().to(dev)\n",
        "  y_test = test_data.test_labels.to(dev)\n",
        "\n",
        "  pred = mod(x_test)\n",
        "  corr_pred = torch.argmax(pred, 1) == y_test\n",
        "  acc = corr_pred.float().mean()\n",
        "  print(f'Accuracy: {acc.item()}')"
      ],
      "metadata": {
        "colab": {
          "base_uri": "https://localhost:8080/"
        },
        "id": "UfGo7GdxJ4Lf",
        "outputId": "b00e290c-6c39-4356-98fa-fa3cad3356e4"
      },
      "execution_count": 14,
      "outputs": [
        {
          "output_type": "stream",
          "name": "stdout",
          "text": [
            "Accuracy: 0.9801999926567078\n"
          ]
        },
        {
          "output_type": "stream",
          "name": "stderr",
          "text": [
            "/usr/local/lib/python3.7/dist-packages/torchvision/datasets/mnist.py:80: UserWarning: test_data has been renamed data\n",
            "  warnings.warn(\"test_data has been renamed data\")\n",
            "/usr/local/lib/python3.7/dist-packages/torchvision/datasets/mnist.py:70: UserWarning: test_labels has been renamed targets\n",
            "  warnings.warn(\"test_labels has been renamed targets\")\n"
          ]
        }
      ]
    }
  ]
}